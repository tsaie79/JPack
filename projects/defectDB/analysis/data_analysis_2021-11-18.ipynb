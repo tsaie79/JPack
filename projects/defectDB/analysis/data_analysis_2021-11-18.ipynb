{
 "cells": [
  {
   "cell_type": "code",
   "execution_count": 14,
   "metadata": {},
   "outputs": [],
   "source": [
    "import pandas as pd\n",
    "import numpy as np\n",
    "from qubitPack.tool_box import IOTools\n",
    "from matplotlib import pyplot as plt\n",
    "from matplotlib.ticker import AutoMinorLocator\n",
    "import os\n",
    "\n",
    "os.environ[\"PATH\"] += os.pathsep + \"/Library/TeX/texbin/latex\"\n",
    "plt.style.use([\"science\", \"nature\", \"light\"])\n"
   ]
  },
  {
   "cell_type": "code",
   "execution_count": 149,
   "metadata": {},
   "outputs": [],
   "source": [
    "defect_df = IOTools(cwd=\".\", excel_file=\"defect_2021-11-18\").read_excel()\n",
    "\n",
    "triplet_df = defect_df.loc[(defect_df[\"mag\"] == 2), :]\n",
    "\n",
    "good_triplet_df = defect_df.loc[(defect_df[\"mag\"] == 2) & (defect_df[\"level_cbm\"] != \"None\")\n",
    "                                    & (defect_df[\"level_vbm\"] != \"None\"), :]\n",
    "\n",
    "qubit_candidate_df = good_triplet_df.loc[(good_triplet_df[\"up_tran_en\"] >= 0.5) | (good_triplet_df[\"dn_tran_en\"]\n",
    "                                                                                       >= 0.5), :]"
   ]
  },
  {
   "cell_type": "code",
   "execution_count": 186,
   "metadata": {},
   "outputs": [],
   "source": [
    "grouping = [\"prototype\", \"pmg_spg\", \"pmg_pg\", \"uid\", \"reduced_site_sym\", \"reduced_site_specie\",]\n",
    "grouping.extend([\"defect_type\", \"defect_name\", \"charge\", \"mag\"])"
   ]
  },
  {
   "cell_type": "markdown",
   "metadata": {},
   "source": [
    "# Statistics"
   ]
  },
  {
   "cell_type": "markdown",
   "metadata": {},
   "source": [
    "## Unique defect systems"
   ]
  },
  {
   "cell_type": "code",
   "execution_count": 84,
   "metadata": {},
   "outputs": [
    {
     "data": {
      "text/plain": [
       "host_taskid  defect_name  \n",
       "4            as_1_B_on_N        [as_1_B_on_N]\n",
       "             as_1_N_on_B        [as_1_N_on_B]\n",
       "             vac_1_B                [vac_1_B]\n",
       "             vac_2_N                [vac_2_N]\n",
       "29           as_1_Pd_on_S      [as_1_Pd_on_S]\n",
       "             as_1_S_on_Pd      [as_1_S_on_Pd]\n",
       "             vac_1_Pd              [vac_1_Pd]\n",
       "             vac_2_S                [vac_2_S]\n",
       "40           as_1_Cl_on_Mg    [as_1_Cl_on_Mg]\n",
       "             as_1_Mg_on_Cl    [as_1_Mg_on_Cl]\n",
       "Name: defect_name, dtype: object"
      ]
     },
     "metadata": {},
     "output_type": "display_data"
    },
    {
     "data": {
      "text/plain": [
       "741"
      ]
     },
     "execution_count": 84,
     "metadata": {},
     "output_type": "execute_result"
    }
   ],
   "source": [
    "defect_name = defect_df.groupby([\"host_taskid\", \"defect_name\"]).defect_name\n",
    "display(defect_name.unique()[:10])\n",
    "tot_unique_defect_sys = defect_name.unique()[:].count()\n",
    "tot_unique_defect_sys"
   ]
  },
  {
   "cell_type": "markdown",
   "metadata": {},
   "source": [
    "## Calculated hosts"
   ]
  },
  {
   "cell_type": "code",
   "execution_count": 89,
   "metadata": {},
   "outputs": [
    {
     "data": {
      "text/plain": [
       "host_taskid\n",
       "4        [4]\n",
       "29      [29]\n",
       "40      [40]\n",
       "46      [46]\n",
       "55      [55]\n",
       "57      [57]\n",
       "63      [63]\n",
       "66      [66]\n",
       "82      [82]\n",
       "105    [105]\n",
       "Name: host_taskid, dtype: object"
      ]
     },
     "metadata": {},
     "output_type": "display_data"
    },
    {
     "data": {
      "text/plain": [
       "243"
      ]
     },
     "execution_count": 89,
     "metadata": {},
     "output_type": "execute_result"
    }
   ],
   "source": [
    "host = defect_df.groupby([\"host_taskid\"]).host_taskid\n",
    "display(host.unique()[:10])\n",
    "tot_host = host.unique()[:].count()\n",
    "tot_host"
   ]
  },
  {
   "cell_type": "markdown",
   "metadata": {},
   "source": [
    "## Total number of calculated defect systems"
   ]
  },
  {
   "cell_type": "code",
   "execution_count": 187,
   "metadata": {},
   "outputs": [],
   "source": [
    "grouping.extend([\"level_vbm\", \"level_cbm\", \"level_gap\", \"level_cat\"])\n",
    "grouping.extend([\"up_tran_en\", \"dn_tran_en\", \n",
    "                    \"up_tran_wavelength\", \"dn_tran_wavelength\"])\n",
    "defect_gp = defect_df.groupby(grouping).agg({\"task_id\": {\"count\", \"unique\"}})\n",
    "defect_gp\n",
    "IOTools(cwd=\".\", pandas_df=defect_gp).to_excel(\"defect_gp\", index=True)"
   ]
  },
  {
   "cell_type": "markdown",
   "metadata": {},
   "source": [
    "## Bandedge-level hypothesis and transition wavelength"
   ]
  },
  {
   "cell_type": "code",
   "execution_count": 81,
   "metadata": {},
   "outputs": [],
   "source": [
    "#### grouping = [\"level_cat\", \"prototype\", \"pmg_spg\", \"pmg_pg\", \"uid\", \"reduced_site_sym\", \"reduced_site_specie\",]\n",
    "# grouping.extend([\"defect_type\", \"defect_name\", \"charge\", \"up_tran_wavelength\", \"dn_tran_wavelength\"])\n",
    "\n",
    "# df = qubit_candidate_df.groupby(grouping).agg({\"task_id\": [\"unique\", \"count\"]})\n",
    "for x in [\"1\", \"2\", \"3\", \"4\", \"2'\", \"3'\"]:\n",
    "    df = qubit_candidate_df.loc[qubit_candidate_df[\"level_cat\"] == x, :]\n",
    "    df = df.loc[:, [\"prototype\", \"host_taskid\", \"up_tran_en\", \"dn_tran_en\", \n",
    "                    \"up_tran_wavelength\", \"dn_tran_wavelength\", \"task_id\"]]\n",
    "    df.sort_values([\"up_tran_wavelength\", \"dn_tran_wavelength\"], inplace=True)\n",
    "    IOTools(cwd=\".\", pandas_df=df).to_excel(\"qubit_tran_cat{}\".format(x), index=True)"
   ]
  },
  {
   "cell_type": "markdown",
   "metadata": {},
   "source": [
    "# Data in Main Text"
   ]
  },
  {
   "cell_type": "markdown",
   "metadata": {},
   "source": [
    "# Triplet"
   ]
  },
  {
   "cell_type": "code",
   "execution_count": 159,
   "metadata": {},
   "outputs": [],
   "source": [
    "table_path = \"/Users/jeng-yuantsai/Research/project/Scan2dDefect/manuscript/tables\""
   ]
  },
  {
   "cell_type": "markdown",
   "metadata": {},
   "source": [
    "## Figure 1'"
   ]
  },
  {
   "cell_type": "code",
   "execution_count": 132,
   "metadata": {},
   "outputs": [],
   "source": [
    "db = get_db(\"Scan2dMat\", \"calc_data\", port=12347)\n",
    "host_collection = db.collection"
   ]
  },
  {
   "cell_type": "code",
   "execution_count": 141,
   "metadata": {},
   "outputs": [],
   "source": [
    "host_taskid = 4\n",
    "host = host_collection.find_one({\"task_id\": host_taskid})\n",
    "st = host[\"output\"][\"structure\"]\n",
    "from pymatgen import Structure\n",
    "Structure.from_dict(st).to(\"poscar\", \"host_structure/{}.vasp\".format(host_taskid))"
   ]
  },
  {
   "cell_type": "markdown",
   "metadata": {},
   "source": [
    "## Table 1: Triplet in defect calculations"
   ]
  },
  {
   "cell_type": "code",
   "execution_count": 174,
   "metadata": {},
   "outputs": [
    {
     "data": {
      "text/plain": [
       "unique    [2032914, 2046258]\n",
       "count                    564\n",
       "dtype: object"
      ]
     },
     "execution_count": 174,
     "metadata": {},
     "output_type": "execute_result"
    }
   ],
   "source": [
    "grouping.extend([\"level_vbm\", \"level_cbm\", \"level_gap\", \"level_cat\"])\n",
    "df = triplet_df.groupby(grouping).agg({\"host_taskid\": [\"unique\"], \"task_id\": [\"unique\", \"count\"]})\n",
    "df.task_id.sum()"
   ]
  },
  {
   "cell_type": "code",
   "execution_count": 175,
   "metadata": {},
   "outputs": [],
   "source": [
    "IOTools(cwd=table_path, pandas_df=df).to_excel(\"Table_1\", index=True)"
   ]
  },
  {
   "cell_type": "markdown",
   "metadata": {},
   "source": [
    "## Number 1: Fraction of triplet over total defect calculations"
   ]
  },
  {
   "cell_type": "code",
   "execution_count": 100,
   "metadata": {},
   "outputs": [
    {
     "data": {
      "text/plain": [
       "'Total triplet calc: 564, Total defect calc: 1487, Fraction: 37.93%'"
      ]
     },
     "metadata": {},
     "output_type": "display_data"
    }
   ],
   "source": [
    "total_triplet = triplet_df.loc[:, \"task_id\"].count()\n",
    "total_defect = defect_df.loc[:, \"task_id\"].count()\n",
    "triplet_fraction = total_triplet/total_defect\n",
    "display(\"Total triplet calc: {}, Total defect calc: {}, Fraction: {:.2%}\".format(total_triplet, total_defect, triplet_fraction))"
   ]
  },
  {
   "cell_type": "markdown",
   "metadata": {},
   "source": [
    "## Number 2: Fraction of unique defect systems"
   ]
  },
  {
   "cell_type": "code",
   "execution_count": 99,
   "metadata": {},
   "outputs": [
    {
     "data": {
      "text/plain": [
       "host_taskid  defect_name  \n",
       "4            vac_1_B                [vac_1_B]\n",
       "40           as_1_Cl_on_Mg    [as_1_Cl_on_Mg]\n",
       "             vac_1_Mg              [vac_1_Mg]\n",
       "46           as_1_Cl_on_Mg    [as_1_Cl_on_Mg]\n",
       "             vac_1_Mg              [vac_1_Mg]\n",
       "                                   ...       \n",
       "2618         vac_1_In              [vac_1_In]\n",
       "2643         as_1_Pb_on_Te    [as_1_Pb_on_Te]\n",
       "             vac_1_Te              [vac_1_Te]\n",
       "2646         as_1_Cl_on_Al    [as_1_Cl_on_Al]\n",
       "             vac_1_Al              [vac_1_Al]\n",
       "Name: defect_name, Length: 464, dtype: object"
      ]
     },
     "metadata": {},
     "output_type": "display_data"
    },
    {
     "data": {
      "text/plain": [
       "'Tot triplet unique defect sys: 464, total unique defect sys: 741, Fraction: 62.62%'"
      ]
     },
     "metadata": {},
     "output_type": "display_data"
    }
   ],
   "source": [
    "defect_name = triplet_df.groupby([\"host_taskid\", \"defect_name\"]).defect_name.unique()\n",
    "display(defect_name)\n",
    "display(\"Tot triplet unique defect sys: {}, total unique defect sys: {}, Fraction: {:.2%}\".format(defect_name.count(), tot_unique_defect_sys, defect_name.count()/tot_unique_defect_sys))"
   ]
  },
  {
   "cell_type": "markdown",
   "metadata": {},
   "source": [
    "## Number 3: Fraction of hosts"
   ]
  },
  {
   "cell_type": "code",
   "execution_count": 133,
   "metadata": {},
   "outputs": [
    {
     "data": {
      "text/plain": [
       "'Tot triplet hosts: 212, Tot host calc:243, Fraction: 87.24%'"
      ]
     },
     "metadata": {},
     "output_type": "display_data"
    }
   ],
   "source": [
    "triplet_host = triplet_df.groupby([\"host_taskid\",]).host_taskid.unique()\n",
    "display(\"Tot triplet hosts: {}, Tot host calc:{}, Fraction: {:.2%}\".format(triplet_host.count(), tot_host, triplet_host.count()/tot_host))"
   ]
  },
  {
   "cell_type": "markdown",
   "metadata": {},
   "source": [
    "## Table 2 Distribution of defect types and charged triplets"
   ]
  },
  {
   "cell_type": "code",
   "execution_count": 149,
   "metadata": {},
   "outputs": [
    {
     "name": "stdout",
     "output_type": "stream",
     "text": [
      "count    564\n",
      "dtype: int64\n"
     ]
    },
    {
     "data": {
      "text/html": [
       "<div>\n",
       "<style scoped>\n",
       "    .dataframe tbody tr th:only-of-type {\n",
       "        vertical-align: middle;\n",
       "    }\n",
       "\n",
       "    .dataframe tbody tr th {\n",
       "        vertical-align: top;\n",
       "    }\n",
       "\n",
       "    .dataframe thead tr th {\n",
       "        text-align: left;\n",
       "    }\n",
       "\n",
       "    .dataframe thead tr:last-of-type th {\n",
       "        text-align: right;\n",
       "    }\n",
       "</style>\n",
       "<table border=\"1\" class=\"dataframe\">\n",
       "  <thead>\n",
       "    <tr>\n",
       "      <th></th>\n",
       "      <th></th>\n",
       "      <th>task_id</th>\n",
       "      <th>frac</th>\n",
       "    </tr>\n",
       "    <tr>\n",
       "      <th></th>\n",
       "      <th></th>\n",
       "      <th>count</th>\n",
       "      <th></th>\n",
       "    </tr>\n",
       "    <tr>\n",
       "      <th>defect_type</th>\n",
       "      <th>charge</th>\n",
       "      <th></th>\n",
       "      <th></th>\n",
       "    </tr>\n",
       "  </thead>\n",
       "  <tbody>\n",
       "    <tr>\n",
       "      <th rowspan=\"3\" valign=\"top\">antisite</th>\n",
       "      <th>-1</th>\n",
       "      <td>161</td>\n",
       "      <td>0.29</td>\n",
       "    </tr>\n",
       "    <tr>\n",
       "      <th>0</th>\n",
       "      <td>96</td>\n",
       "      <td>0.17</td>\n",
       "    </tr>\n",
       "    <tr>\n",
       "      <th>1</th>\n",
       "      <td>95</td>\n",
       "      <td>0.17</td>\n",
       "    </tr>\n",
       "    <tr>\n",
       "      <th rowspan=\"3\" valign=\"top\">vacancy</th>\n",
       "      <th>-1</th>\n",
       "      <td>61</td>\n",
       "      <td>0.11</td>\n",
       "    </tr>\n",
       "    <tr>\n",
       "      <th>0</th>\n",
       "      <td>95</td>\n",
       "      <td>0.17</td>\n",
       "    </tr>\n",
       "    <tr>\n",
       "      <th>1</th>\n",
       "      <td>56</td>\n",
       "      <td>0.10</td>\n",
       "    </tr>\n",
       "  </tbody>\n",
       "</table>\n",
       "</div>"
      ],
      "text/plain": [
       "                   task_id  frac\n",
       "                     count      \n",
       "defect_type charge              \n",
       "antisite    -1         161  0.29\n",
       "             0          96  0.17\n",
       "             1          95  0.17\n",
       "vacancy     -1          61  0.11\n",
       "             0          95  0.17\n",
       "             1          56  0.10"
      ]
     },
     "metadata": {},
     "output_type": "display_data"
    }
   ],
   "source": [
    "df = triplet_df.groupby([\"defect_type\", \"charge\"]).agg(dict(task_id=[\"count\"]))\n",
    "print(df[\"task_id\"].sum())\n",
    "df[\"frac\"] = df.apply(lambda x: round(x/float(df[\"task_id\"].sum()), 2))\n",
    "df.to_clipboard()\n",
    "display(df)"
   ]
  },
  {
   "cell_type": "code",
   "execution_count": 160,
   "metadata": {},
   "outputs": [],
   "source": [
    "IOTools(cwd=table_path, pandas_df=df).to_excel(\"Table_2\", index=True)"
   ]
  },
  {
   "cell_type": "markdown",
   "metadata": {},
   "source": [
    "# Qubit candidate"
   ]
  },
  {
   "cell_type": "markdown",
   "metadata": {},
   "source": [
    "## Table 3: Qubit candidate"
   ]
  },
  {
   "cell_type": "code",
   "execution_count": 182,
   "metadata": {},
   "outputs": [
    {
     "data": {
      "text/plain": [
       "unique    [565651, 571311]\n",
       "count                  164\n",
       "dtype: object"
      ]
     },
     "execution_count": 182,
     "metadata": {},
     "output_type": "execute_result"
    }
   ],
   "source": [
    "grouping.extend([\"level_vbm\", \"level_cbm\", \"level_gap\", \"level_cat\"])\n",
    "grouping.extend([\"up_tran_en\", \"dn_tran_en\", \n",
    "                    \"up_tran_wavelength\", \"dn_tran_wavelength\"])\n",
    "df = qubit_candidate_df.groupby(grouping).agg({\"host_taskid\": [\"unique\"], \"task_id\": [\"unique\", \"count\"]})\n",
    "df.task_id.sum()"
   ]
  },
  {
   "cell_type": "code",
   "execution_count": 183,
   "metadata": {},
   "outputs": [],
   "source": [
    "IOTools(cwd=table_path, pandas_df=df).to_excel(\"Table_3\", index=True)"
   ]
  },
  {
   "cell_type": "markdown",
   "metadata": {},
   "source": [
    "## Number 4: Fraction of qubit over total defect calculations"
   ]
  },
  {
   "cell_type": "code",
   "execution_count": 123,
   "metadata": {},
   "outputs": [
    {
     "data": {
      "text/plain": [
       "'Total qubit calc: 164, Total defect calc: 1487, Fraction: 11.03%'"
      ]
     },
     "metadata": {},
     "output_type": "display_data"
    }
   ],
   "source": [
    "total_qubit = qubit_candidate_df.loc[:, \"task_id\"].count()\n",
    "total_defect = defect_df.loc[:, \"task_id\"].count()\n",
    "qubit_fraction = total_qubit/total_defect\n",
    "display(\"Total qubit calc: {}, Total defect calc: {}, Fraction: {:.2%}\".format(total_qubit, total_defect, qubit_fraction))"
   ]
  },
  {
   "cell_type": "markdown",
   "metadata": {},
   "source": [
    "## Number 5: Fraction of unique defect systems"
   ]
  },
  {
   "cell_type": "code",
   "execution_count": 125,
   "metadata": {},
   "outputs": [
    {
     "data": {
      "text/plain": [
       "host_taskid  defect_name  \n",
       "4            vac_1_B                [vac_1_B]\n",
       "46           as_1_Cl_on_Mg    [as_1_Cl_on_Mg]\n",
       "55           as_1_Cl_on_Zn    [as_1_Cl_on_Zn]\n",
       "66           as_1_Sn_on_S      [as_1_Sn_on_S]\n",
       "106          as_1_Sn_on_Cl    [as_1_Sn_on_Cl]\n",
       "                                   ...       \n",
       "2592         as_1_Se_on_In    [as_1_Se_on_In]\n",
       "2618         as_1_In_on_S      [as_1_In_on_S]\n",
       "             as_1_S_on_In      [as_1_S_on_In]\n",
       "2643         as_1_Pb_on_Te    [as_1_Pb_on_Te]\n",
       "2646         as_1_Cl_on_Al    [as_1_Cl_on_Al]\n",
       "Name: defect_name, Length: 146, dtype: object"
      ]
     },
     "metadata": {},
     "output_type": "display_data"
    },
    {
     "data": {
      "text/plain": [
       "'Tot qubit unique defect sys: 146, total unique defect sys: 741, Fraction: 19.70%'"
      ]
     },
     "metadata": {},
     "output_type": "display_data"
    }
   ],
   "source": [
    "defect_name = qubit_candidate_df.groupby([\"host_taskid\", \"defect_name\"]).defect_name.unique()\n",
    "display(defect_name)\n",
    "display(\"Tot qubit unique defect sys: {}, total unique defect sys: {}, Fraction: {:.2%}\".format(defect_name.count(), tot_unique_defect_sys, defect_name.count()/tot_unique_defect_sys))"
   ]
  },
  {
   "cell_type": "markdown",
   "metadata": {},
   "source": [
    "## Number 6: Fraction of hosts"
   ]
  },
  {
   "cell_type": "code",
   "execution_count": 127,
   "metadata": {},
   "outputs": [
    {
     "data": {
      "text/plain": [
       "'Tot qubit hosts: 122, Tot host calc:243, Fraction: 50.21%'"
      ]
     },
     "metadata": {},
     "output_type": "display_data"
    }
   ],
   "source": [
    "qubit_host_df = qubit_candidate_df.groupby([\"host_taskid\",]).host_taskid.unique()\n",
    "display(\"Tot qubit hosts: {}, Tot host calc:{}, Fraction: {:.2%}\".format(qubit_host_df.count(), tot_host, qubit_host_df.count()/tot_host))"
   ]
  },
  {
   "cell_type": "markdown",
   "metadata": {},
   "source": [
    "## Table 4 Distribution of defect types and charged qubits"
   ]
  },
  {
   "cell_type": "code",
   "execution_count": 153,
   "metadata": {},
   "outputs": [
    {
     "name": "stdout",
     "output_type": "stream",
     "text": [
      "count    164\n",
      "dtype: int64\n"
     ]
    },
    {
     "data": {
      "text/html": [
       "<div>\n",
       "<style scoped>\n",
       "    .dataframe tbody tr th:only-of-type {\n",
       "        vertical-align: middle;\n",
       "    }\n",
       "\n",
       "    .dataframe tbody tr th {\n",
       "        vertical-align: top;\n",
       "    }\n",
       "\n",
       "    .dataframe thead tr th {\n",
       "        text-align: left;\n",
       "    }\n",
       "\n",
       "    .dataframe thead tr:last-of-type th {\n",
       "        text-align: right;\n",
       "    }\n",
       "</style>\n",
       "<table border=\"1\" class=\"dataframe\">\n",
       "  <thead>\n",
       "    <tr>\n",
       "      <th></th>\n",
       "      <th></th>\n",
       "      <th>task_id</th>\n",
       "      <th>frac</th>\n",
       "    </tr>\n",
       "    <tr>\n",
       "      <th></th>\n",
       "      <th></th>\n",
       "      <th>count</th>\n",
       "      <th></th>\n",
       "    </tr>\n",
       "    <tr>\n",
       "      <th>defect_type</th>\n",
       "      <th>charge</th>\n",
       "      <th></th>\n",
       "      <th></th>\n",
       "    </tr>\n",
       "  </thead>\n",
       "  <tbody>\n",
       "    <tr>\n",
       "      <th rowspan=\"3\" valign=\"top\">antisite</th>\n",
       "      <th>-1</th>\n",
       "      <td>66</td>\n",
       "      <td>0.40</td>\n",
       "    </tr>\n",
       "    <tr>\n",
       "      <th>0</th>\n",
       "      <td>47</td>\n",
       "      <td>0.29</td>\n",
       "    </tr>\n",
       "    <tr>\n",
       "      <th>1</th>\n",
       "      <td>35</td>\n",
       "      <td>0.21</td>\n",
       "    </tr>\n",
       "    <tr>\n",
       "      <th rowspan=\"3\" valign=\"top\">vacancy</th>\n",
       "      <th>-1</th>\n",
       "      <td>7</td>\n",
       "      <td>0.04</td>\n",
       "    </tr>\n",
       "    <tr>\n",
       "      <th>0</th>\n",
       "      <td>3</td>\n",
       "      <td>0.02</td>\n",
       "    </tr>\n",
       "    <tr>\n",
       "      <th>1</th>\n",
       "      <td>6</td>\n",
       "      <td>0.04</td>\n",
       "    </tr>\n",
       "  </tbody>\n",
       "</table>\n",
       "</div>"
      ],
      "text/plain": [
       "                   task_id  frac\n",
       "                     count      \n",
       "defect_type charge              \n",
       "antisite    -1          66  0.40\n",
       "             0          47  0.29\n",
       "             1          35  0.21\n",
       "vacancy     -1           7  0.04\n",
       "             0           3  0.02\n",
       "             1           6  0.04"
      ]
     },
     "metadata": {},
     "output_type": "display_data"
    }
   ],
   "source": [
    "df = qubit_candidate_df.groupby([\"defect_type\", \"charge\"]).agg(dict(task_id=[\"count\"]))\n",
    "print(df[\"task_id\"].sum())\n",
    "df[\"frac\"] = df.apply(lambda x: round(x/float(df[\"task_id\"].sum()), 2))\n",
    "df.to_clipboard()\n",
    "display(df)"
   ]
  },
  {
   "cell_type": "code",
   "execution_count": 154,
   "metadata": {},
   "outputs": [],
   "source": [
    "IOTools(cwd=\".\", pandas_df=df).to_excel(\"Table_4\", index=True)"
   ]
  },
  {
   "cell_type": "code",
   "execution_count": 475,
   "metadata": {},
   "outputs": [
    {
     "data": {
      "image/png": "[encoded data removed]",
      "text/plain": [
       "<Figure size 330x250 with 6 Axes>"
      ]
     },
     "metadata": {},
     "output_type": "display_data"
    }
   ],
   "source": [
    "fig, axes = plt.subplots(nrows=2, ncols=3)\n",
    "\n",
    "x0 = np.linspace(-2.5,2.5, 100)\n",
    "\n",
    "plt.plot(x0, x0**2)\n",
    "plt.show()"
   ]
  },
  {
   "cell_type": "markdown",
   "metadata": {},
   "source": [
    "## Figure 1"
   ]
  },
  {
   "cell_type": "code",
   "execution_count": 130,
   "metadata": {},
   "outputs": [
    {
     "data": {
      "image/png": "[encoded data removed]",
      "text/plain": [
       "<Figure size 330x250 with 6 Axes>"
      ]
     },
     "metadata": {},
     "output_type": "display_data"
    }
   ],
   "source": [
    "fig, axes = plt.subplots(nrows=2, ncols=3)\n",
    "x0 = np.linspace(0, 5, 100)\n",
    "hyperbola = 0.1*(x0-2.5)**2\n",
    "ax = axes[0][0]\n",
    "ax.plot(x0, hyperbola+2, color=\"#EE8866\", linewidth=2)\n",
    "ax.plot(x0, -hyperbola, color=\"#EE8866\", linewidth=2)\n",
    "# axes[0].plot(x0, [1 for i in x0], linestyle=\"--\", color=\"grey\", linewidth=1.5)\n",
    "ax.plot(x0, [1.2 for i in x0], linestyle=\"-\", color=\"#EE8866\", linewidth=2)\n",
    "ax.text(1.5, -0.8, \"Cat 1\", )\n",
    "ax.arrow(2.5, 0, 0, 0.9, head_length=0.2, width=0.1, head_width=0.5, shape=\"full\", color=\"#EE8866\")\n",
    "ax.arrow(2.5, 2, 0, -0.5, head_length=0.2, width=0.1, head_width=0.5, shape=\"full\", color=\"#EE8866\")\n",
    "ax.axis(\"off\")\n",
    "\n",
    "ax = axes[0][1]\n",
    "ax.plot(x0, hyperbola+2, color=\"darkgrey\", linewidth=2)\n",
    "ax.plot(x0, -hyperbola, color=\"#44BB99\", linewidth=2)\n",
    "# axes[1].plot(x0, [1 for i in x0], linestyle=\"--\", color=\"grey\", linewidth=1.5)\n",
    "ax.plot(x0, [0.5 for i in x0], linestyle=\"-\", color=\"#44BB99\", linewidth=2)\n",
    "ax.text(1.5, -0.8, \"Cat 2\", )\n",
    "ax.arrow(2.5, 0, 0, 0.2, head_length=0.2, width=0.1, head_width=0.5, shape=\"full\", color=\"#44BB99\")\n",
    "ax.axis(\"off\")\n",
    "\n",
    "ax = axes[0][2]\n",
    "ax.plot(x0, hyperbola+2, color=\"orange\", linewidth=2)\n",
    "ax.plot(x0, -hyperbola, color=\"darkgrey\", linewidth=2)\n",
    "# axes[2].plot(x0, [1 for i in x0], linestyle=\"--\", color=\"grey\", linewidth=1.5)\n",
    "ax.plot(x0, [1.5 for i in x0], linestyle=\"-\", color=\"orange\", linewidth=2)\n",
    "ax.text(1.5, -0.8, \"Cat 3\", )\n",
    "ax.arrow(2.5, 2, 0, -0.2, head_length=0.2, width=0.1, head_width=0.5, shape=\"full\", color=\"orange\")\n",
    "ax.axis(\"off\")\n",
    "\n",
    "\n",
    "# Not followed\n",
    "ax = axes[1][0]\n",
    "ax.plot(x0, hyperbola+2, color=\"#EE8866\", linewidth=2)\n",
    "ax.plot(x0, -hyperbola, color=\"#EE8866\", linewidth=2)\n",
    "# axes[3].plot(x0, [1 for i in x0], linestyle=\"--\", color=\"grey\", linewidth=1.5)\n",
    "ax.plot(x0, [1.2 for i in x0], linestyle=\"-\", color=\"darkgrey\", linewidth=2)\n",
    "ax.text(1.5, -0.8, \"Cat 4\", )\n",
    "ax.axis(\"off\")\n",
    "\n",
    "ax = axes[1][1]\n",
    "ax.plot(x0, hyperbola+2, color=\"darkgrey\", linewidth=2)\n",
    "ax.plot(x0, -hyperbola, color=\"#44BB99\", linewidth=2)\n",
    "# axes[1].plot(x0, [1 for i in x0], linestyle=\"--\", color=\"grey\", linewidth=1.5)\n",
    "ax.plot(x0, [1.5 for i in x0], linestyle=\"-\", color=\"#44BB99\", linewidth=2)\n",
    "ax.text(1.5, -0.8, \"Cat 2'\", )\n",
    "ax.arrow(2.5, 0, 0, 1.2, head_length=0.2, width=0.1, head_width=0.5, shape=\"full\", color=\"#44BB99\")\n",
    "ax.axis(\"off\")\n",
    "\n",
    "ax = axes[1][2]\n",
    "ax.plot(x0, hyperbola+2, color=\"orange\", linewidth=2)\n",
    "ax.plot(x0, -hyperbola, color=\"darkgrey\", linewidth=2)\n",
    "# axes[2].plot(x0, [1 for i in x0], linestyle=\"--\", color=\"grey\", linewidth=1.5)\n",
    "ax.plot(x0, [0.5 for i in x0], linestyle=\"-\", color=\"orange\", linewidth=2)\n",
    "ax.text(1.5, -0.8, \"Cat 3'\", )\n",
    "ax.arrow(2.5, 2, 0, -1.2, head_length=0.2, width=0.1, head_width=0.5, shape=\"full\", color=\"orange\")\n",
    "ax.axis(\"off\")\n",
    "\n",
    "fig.savefig(\"figure 1.pdf\")\n",
    "plt.show()"
   ]
  },
  {
   "cell_type": "markdown",
   "metadata": {},
   "source": [
    "## Figure 2"
   ]
  },
  {
   "cell_type": "code",
   "execution_count": 127,
   "metadata": {},
   "outputs": [],
   "source": [
    "qubit_can_gp = qubit_candidate_df.groupby([\"level_cat\"]).agg({\"task_id\": [\"count\", \"unique\"]})\n",
    "qubit_can_gp\n",
    "cat1 = qubit_candidate_df.loc[qubit_candidate_df[\"level_cat\"] == '1', \"task_id\"]\n",
    "cat1p = qubit_candidate_df.loc[qubit_candidate_df[\"level_cat\"] == \"1'\", \"task_id\"]\n",
    "\n",
    "\n",
    "cat2 = qubit_candidate_df.loc[qubit_candidate_df[\"level_cat\"] == '2', \"task_id\"]\n",
    "cat2p = qubit_candidate_df.loc[qubit_candidate_df[\"level_cat\"] == \"2'\", \"task_id\"]\n",
    "\n",
    "\n",
    "cat3 = qubit_candidate_df.loc[qubit_candidate_df[\"level_cat\"] == '3', \"task_id\"]\n",
    "cat3p = qubit_candidate_df.loc[qubit_candidate_df[\"level_cat\"] == \"3'\", \"task_id\"]\n",
    "\n",
    "\n",
    "cat4p = qubit_candidate_df.loc[qubit_candidate_df[\"level_cat\"] == \"4\", \"task_id\"]"
   ]
  },
  {
   "cell_type": "code",
   "execution_count": 129,
   "metadata": {},
   "outputs": [
    {
     "name": "stdout",
     "output_type": "stream",
     "text": [
      "29 56 42 23 1 13\n"
     ]
    },
    {
     "data": {
      "image/png": "[encoded data removed]",
      "text/plain": [
       "<Figure size 330x250 with 1 Axes>"
      ]
     },
     "metadata": {},
     "output_type": "display_data"
    }
   ],
   "source": [
    "from matplotlib import pyplot as plt\n",
    "fig, ax = plt.subplots()\n",
    "print(cat1.count(), cat2.count(), cat3.count(), cat2p.count(), cat3p.count(), cat4p.count())\n",
    "\n",
    "ax.bar(\"Followed\", cat1.count(), label=\"Cat 1\")\n",
    "ax.text(0, cat1.count()*0.5, cat1.count())\n",
    "ax.bar(\"Followed\", cat2.count(), bottom=cat1.count(), label=\"Cat 2\")\n",
    "ax.text(0, cat1.count()+cat2.count()*0.5, cat2.count())\n",
    "ax.bar(\"Followed\", cat3.count(), bottom=cat1.count()+cat2.count(), label=\"Cat 3\")\n",
    "ax.text(0, cat1.count()+cat2.count()+cat3.count()*0.5, cat3.count())\n",
    "\n",
    "\n",
    "ax.bar(\"Not followed\", cat2p.count(), label=\"Cat 2'\")\n",
    "ax.text(1, cat2p.count()*0.5, cat2p.count())\n",
    "ax.bar(\"Not followed\", cat3p.count(), bottom=cat2p.count(), label=\"Cat 3'\")\n",
    "ax.text(1, cat2p.count()-1.5, cat3p.count())\n",
    "ax.bar(\"Not followed\", cat4p.count(), bottom=cat2p.count()+cat3p.count(), label=\"Cat 4\")\n",
    "ax.text(1, cat2p.count()+cat3p.count()+cat4p.count()*0.5, cat4p.count())\n",
    "\n",
    "ax.legend()\n",
    "ax.set_ylabel(\"Count\")\n",
    "ax.set_title(\"Bandedge-level hypothesis\")\n",
    "ax.tick_params(which=\"both\", bottom=False, top=False, right=False)\n",
    "\n",
    "\n",
    "\n",
    "fig.savefig(\"figure 2.pdf\")\n",
    "plt.show()\n"
   ]
  },
  {
   "cell_type": "markdown",
   "metadata": {},
   "source": [
    "## Figure 3"
   ]
  },
  {
   "cell_type": "code",
   "execution_count": 121,
   "metadata": {},
   "outputs": [
    {
     "data": {
      "image/png": "[encoded data removed]",
      "text/plain": [
       "<Figure size 330x250 with 1 Axes>"
      ]
     },
     "metadata": {},
     "output_type": "display_data"
    }
   ],
   "source": [
    "df = qubit_candidate_df.loc[:, \"up_tran_wavelength\"]\n",
    "df = df.apply(lambda x: x/1000)\n",
    "ax = df.plot.hist(bins=20)\n",
    "ax.set_xlim((0, 14))\n",
    "ax.set_ylim((0, 85))\n",
    "ax.tick_params(which=\"both\", bottom=True, top=False, right=False)\n",
    "ax.set_xlabel(\"Wavelength (µm)\")\n",
    "ax.set_ylabel(\"Count\")\n",
    "ax.set_title(\"Distribution of possible transition energy in spin-up channel\")\n",
    "plt.savefig(\"Figure 3_up.eps\")\n",
    "plt.show()\n"
   ]
  },
  {
   "cell_type": "code",
   "execution_count": 123,
   "metadata": {},
   "outputs": [
    {
     "data": {
      "image/png": "[encoded data removed]",
      "text/plain": [
       "<Figure size 330x250 with 1 Axes>"
      ]
     },
     "metadata": {},
     "output_type": "display_data"
    }
   ],
   "source": [
    "df = qubit_candidate_df.loc[:, \"dn_tran_wavelength\"]\n",
    "df = df.apply(lambda x: x/1000)\n",
    "ax = df.plot.hist(bins=20)\n",
    "ax.set_xlim((0, 8))\n",
    "ax.set_ylim((0, 45))\n",
    "ax.tick_params(which=\"both\", bottom=True, top=False, right=False)\n",
    "ax.set_xlabel(\"Wavelength (µm)\")\n",
    "ax.set_ylabel(\"Count\")\n",
    "ax.set_title(\"Distribution of possible transition energy in spin-down channel\")\n",
    "plt.savefig(\"Figure 3_dn.eps\")\n",
    "plt.show()"
   ]
  },
  {
   "cell_type": "code",
   "execution_count": 75,
   "metadata": {},
   "outputs": [
    {
     "data": {
      "image/png": "[encoded data removed]",
      "text/plain": [
       "<Figure size 330x250 with 1 Axes>"
      ]
     },
     "metadata": {},
     "output_type": "display_data"
    }
   ],
   "source": [
    "df = qubit_candidate_df.loc[:, [\"up_tran_wavelength\", \"dn_tran_wavelength\"]]\n",
    "df[\"Up-channel\"] = df[\"up_tran_wavelength\"]\n",
    "df[\"Down-channel\"] = df[\"dn_tran_wavelength\"]\n",
    "df = df.loc[:, [\"Up-channel\", \"Down-channel\"]]\n",
    "\n",
    "df = df.apply(lambda x: x/1000)\n",
    "ax = df.plot.hist(bins=20, alpha=0.5, edgecolor=\"black\")\n",
    "ax.set_xlim((0, 14))\n",
    "# ax.set_ylim((0, 45))\n",
    "ax.tick_params(which=\"both\", bottom=True, top=False, right=False)\n",
    "ax.set_xlabel(\"Wavelength (µm)\")\n",
    "ax.set_ylabel(\"Count\")\n",
    "ax.set_title(\"Distribution of possible transition energy\")\n",
    "plt.savefig(\"Figure 3.pdf\")\n",
    "plt.show()"
   ]
  },
  {
   "cell_type": "code",
   "execution_count": 74,
   "metadata": {},
   "outputs": [
    {
     "data": {
      "image/png": "[encoded data removed]",
      "text/plain": [
       "<Figure size 330x250 with 1 Axes>"
      ]
     },
     "metadata": {},
     "output_type": "display_data"
    }
   ],
   "source": [
    "df = qubit_candidate_df.loc[:, [\"up_tran_wavelength\", \"dn_tran_wavelength\"]]\n",
    "df[\"Up-channel\"] = df[\"up_tran_wavelength\"]\n",
    "df[\"Down-channel\"] = df[\"dn_tran_wavelength\"]\n",
    "df = df.loc[:, [\"Up-channel\", \"Down-channel\"]]\n",
    "\n",
    "df = df.apply(lambda x: x/1000)\n",
    "df = df.loc[(df[\"Up-channel\"] <= 3) & (df[\"Down-channel\"] <= 3)]\n",
    "\n",
    "ax = df.plot.hist(bins=20, alpha=0.5, edgecolor=\"black\")\n",
    "ax.tick_params(which=\"both\", bottom=True, top=False, right=False)\n",
    "ax.get_legend().remove()\n",
    "ax.set_ylabel(\"\")\n",
    "# ax.set_title(\"Distribution of possible transition energy\")\n",
    "plt.savefig(\"Figure 3_inset.pdf\")\n",
    "plt.show()"
   ]
  },
  {
   "cell_type": "markdown",
   "metadata": {},
   "source": [
    "## Figure 4"
   ]
  },
  {
   "cell_type": "code",
   "execution_count": 32,
   "metadata": {},
   "outputs": [],
   "source": [
    "from qubitPack.tool_box import get_db\n",
    "db = get_db(\"HSE_triplets_from_Scan2dDefect\", \"zfs_data\", port=12347)"
   ]
  },
  {
   "cell_type": "code",
   "execution_count": 84,
   "metadata": {},
   "outputs": [
    {
     "data": {
      "text/plain": [
       "task_id           2\n",
       "prev_fw_taskid    2\n",
       "D/E               2\n",
       "D                 2\n",
       "E                 2\n",
       "dtype: int64"
      ]
     },
     "execution_count": 84,
     "metadata": {},
     "output_type": "execute_result"
    }
   ],
   "source": [
    "es = db.collection.find()\n",
    "data = []\n",
    "for e in es:\n",
    "    data_dict = {}\n",
    "    data_dict[\"task_id\"] = e[\"task_id\"]\n",
    "    data_dict[\"prev_fw_taskid\"] = e[\"prev_fw_taskid\"]\n",
    "    data_dict[\"D/E\"] = round(abs(e[\"pyzfs_out\"][\"D\"])/abs(e[\"pyzfs_out\"][\"E\"]), 2)\n",
    "    data_dict[\"D\"] = abs(e[\"pyzfs_out\"][\"D\"])\n",
    "    data_dict[\"E\"] = abs(e[\"pyzfs_out\"][\"E\"])\n",
    "    \n",
    "    data.append(data_dict)\n",
    "\n",
    "df = pd.DataFrame(data)\n",
    "df.loc[df[\"D/E\"] < 5, :].count()"
   ]
  },
  {
   "cell_type": "code",
   "execution_count": 120,
   "metadata": {},
   "outputs": [
    {
     "data": {
      "text/plain": [
       "117"
      ]
     },
     "metadata": {},
     "output_type": "display_data"
    },
    {
     "data": {
      "image/png": "[encoded data removed]",
      "text/plain": [
       "<Figure size 330x250 with 1 Axes>"
      ]
     },
     "metadata": {},
     "output_type": "display_data"
    }
   ],
   "source": [
    "df1 = df.loc[df[\"D/E\"]>=5, \"D\"]\n",
    "df1 = df1.apply(lambda x: round(x/1000, 2))\n",
    "display(df1.count())\n",
    "ax = df1.plot.hist(bins=20, edgecolor=\"black\")\n",
    "ax.set_xlim((-0.5, 10))\n",
    "ax.set_ylim((0, 25))\n",
    "ax.tick_params(which=\"both\", bottom=True, top=False, right=False)\n",
    "ax.set_xlabel(\"ZFS parameter $\\mathrm{|D|}$ (GHz)\")\n",
    "ax.set_ylabel(\"Count\")\n",
    "ax.set_title(\"Distribution of ZFS parameter \"+\"$\\mathrm{|D|}$\")\n",
    "plt.savefig(\"figure 4.pdf\")\n",
    "plt.show()"
   ]
  },
  {
   "cell_type": "code",
   "execution_count": 125,
   "metadata": {},
   "outputs": [
    {
     "data": {
      "text/plain": [
       "94"
      ]
     },
     "metadata": {},
     "output_type": "display_data"
    },
    {
     "data": {
      "image/png": "[encoded data removed]",
      "text/plain": [
       "<Figure size 330x250 with 1 Axes>"
      ]
     },
     "metadata": {},
     "output_type": "display_data"
    }
   ],
   "source": [
    "df1 = df.loc[df[\"D/E\"]>=5, \"D\"]\n",
    "df1 = df1.apply(lambda x: round(x/1000, 2))\n",
    "df1 = df1.loc[df1 <= 5]\n",
    "display(df1.count())\n",
    "ax = df1.plot.hist(bins=20, edgecolor=\"black\")\n",
    "ax.tick_params(which=\"both\", bottom=True, top=False, right=False)\n",
    "ax.set_ylabel(\"\")\n",
    "ax.set_xlim((-0.1, 5))\n",
    "plt.savefig(\"figure 4_inset.pdf\")\n",
    "plt.show()"
   ]
  }
 ],
 "metadata": {
  "kernelspec": {
   "display_name": "Python 3",
   "language": "python",
   "name": "python3"
  },
  "language_info": {
   "codemirror_mode": {
    "name": "ipython",
    "version": 3
   },
   "file_extension": ".py",
   "mimetype": "text/x-python",
   "name": "python",
   "nbconvert_exporter": "python",
   "pygments_lexer": "ipython3",
   "version": "3.7.4"
  }
 },
 "nbformat": 4,
 "nbformat_minor": 2
}
